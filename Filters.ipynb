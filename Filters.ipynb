{
 "cells": [
  {
   "cell_type": "code",
   "execution_count": 5,
   "metadata": {},
   "outputs": [],
   "source": [
    "import matplotlib.pyplot as plt\n",
    "import numpy as np\n",
    "import cv2\n",
    "import skimage "
   ]
  },
  {
   "cell_type": "code",
   "execution_count": 6,
   "metadata": {},
   "outputs": [],
   "source": [
    "B5 = skimage.io.imread('G:/Python_RS/Image_Copy/Image/Geo-Eye/pan_img.tif')"
   ]
  },
  {
   "cell_type": "code",
   "execution_count": 7,
   "metadata": {},
   "outputs": [],
   "source": [
    "kernel_size = 5"
   ]
  },
  {
   "cell_type": "code",
   "execution_count": 8,
   "metadata": {},
   "outputs": [],
   "source": [
    "#Low Pass Filters\n",
    "mean_image = cv2.blur(B5,(kernel_size, kernel_size))\n",
    "median_image = cv2.medianBlur(B5, kernel_size)\n",
    "gaussian = cv2.GaussianBlur(B5, (kernel_size,kernel_size), 0)"
   ]
  },
  {
   "cell_type": "code",
   "execution_count": 11,
   "metadata": {},
   "outputs": [],
   "source": [
    "#High Pass Filters\n",
    "sobel_image = cv2.Sobel(B5, 0, dx=0, dy=1, ksize= kernel_size)\n",
    "laplacian_image = cv2.Laplacian(B5, -1, ksize=kernel_size)"
   ]
  },
  {
   "cell_type": "code",
   "execution_count": null,
   "metadata": {},
   "outputs": [],
   "source": [
    "plt.figure(figsize=(20,20))\n",
    "plt.subplot(3,2,1)\n",
    "plt.imshow(B5, cmap='gray')\n",
    "plt.title('Original Image')\n",
    "plt.axis('off')\n",
    "##Mean Filter\n",
    "plt.subplot(3,2,2)\n",
    "plt.imshow(mean_image, cmap='gray')\n",
    "plt.title('Mean Filter')\n",
    "plt.axis('off')\n",
    "##Median Filter\n",
    "plt.subplot(3,2,3)\n",
    "plt.imshow(median_image, cmap='gray')\n",
    "plt.title('Median Image')\n",
    "plt.axis('off')\n",
    "##Gaussian Filter\n",
    "plt.subplot(3,2,4)\n",
    "plt.imshow(gaussian, cmap='gray')\n",
    "plt.title('Gaussian Filter')\n",
    "plt.axis('off')\n",
    "##Sobel Filter\n",
    "plt.subplot(3,2,5)\n",
    "plt.imshow(sobel_image, cmap='gray')\n",
    "plt.title('Sobel Filter')\n",
    "plt.axis('off')\n",
    "##Laplacian Image\n",
    "plt.subplot(3,2,6)\n",
    "plt.imshow(laplacian_image, cmap='gray')\n",
    "plt.title('Laplacian Filter')\n",
    "plt.axis('off')\n",
    "plt.show()"
   ]
  }
 ],
 "metadata": {
  "kernelspec": {
   "display_name": "Python 3",
   "language": "python",
   "name": "python3"
  },
  "language_info": {
   "codemirror_mode": {
    "name": "ipython",
    "version": 3
   },
   "file_extension": ".py",
   "mimetype": "text/x-python",
   "name": "python",
   "nbconvert_exporter": "python",
   "pygments_lexer": "ipython3",
   "version": "3.8.5"
  }
 },
 "nbformat": 4,
 "nbformat_minor": 4
}
